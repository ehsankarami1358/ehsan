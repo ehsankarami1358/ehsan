{
  "nbformat": 4,
  "nbformat_minor": 0,
  "metadata": {
    "colab": {
      "provenance": [],
      "authorship_tag": "ABX9TyPkMiQanAkCV1k6HoZVwAnY",
      "include_colab_link": true
    },
    "kernelspec": {
      "name": "python3",
      "display_name": "Python 3"
    },
    "language_info": {
      "name": "python"
    }
  },
  "cells": [
    {
      "cell_type": "markdown",
      "metadata": {
        "id": "view-in-github",
        "colab_type": "text"
      },
      "source": [
        "<a href=\"https://colab.research.google.com/github/ehsankarami1358/ehsan/blob/main/Naive_bayse_02_scratch.ipynb\" target=\"_parent\"><img src=\"https://colab.research.google.com/assets/colab-badge.svg\" alt=\"Open In Colab\"/></a>"
      ]
    },
    {
      "cell_type": "code",
      "execution_count": 162,
      "metadata": {
        "id": "HpO9NKJp85B1"
      },
      "outputs": [],
      "source": [
        "import numpy as np\n",
        "class GuassianNaiveBayes:\n",
        "  def fit(self,X,y):\n",
        "    n_sample,n_feature=X.shape\n",
        "    self._classes=np.unique(y)\n",
        "    n_classes=len(self._classes)\n",
        "    self._mean=np.zeros((n_classes,n_feature),dtype=np.float32)\n",
        "    self._var=np.zeros((n_classes,n_feature),dtype=np.float32)\n",
        "    self._prior=np.zeros(n_classes,dtype=np.float32)\n",
        "    for i ,c in enumerate(self._classes):\n",
        "          X_for_class_c=X[y==c]\n",
        "          self._mean[i,:]=X_for_class_c.mean(axis=0)\n",
        "          self._var[i,:]=X_for_class_c.var(axis=0)\n",
        "          self._prior[i]=X_for_class_c.shape[0]/float(n_sample)\n",
        "  def likelihood(self,class_idx,x):\n",
        "      mean=self._mean[class_idx]\n",
        "      var=self._var[class_idx]\n",
        "      num=np.exp(-(X-mean)**2/2*var)\n",
        "      denom=np.sqrt(2*np.pi*var)\n",
        "      return num/denom\n",
        "  def predict(self,X):\n",
        "      y_pred=[self._classify_sample(x) for x in X]\n",
        "      return np.array(y_pred)\n",
        "  def _classify_sample(self,x):\n",
        "      posteriors=[]\n",
        "      for i,c in enumerate(self._classes):\n",
        "        pri=np.log(self._prior[i])\n",
        "        post=np.sum(np.log(self.likelihood(i,x)))\n",
        "        posterior=pri+post\n",
        "        posteriors.append(posterior)\n",
        "      return self._classes[np.argmax(posterior)]"
      ]
    },
    {
      "cell_type": "code",
      "source": [
        "from sklearn.datasets import make_classification\n",
        "from sklearn.model_selection import train_test_split\n",
        "from sklearn.metrics import accuracy_score\n",
        "from sklearn.naive_bayes import GaussianNB\n",
        "import time"
      ],
      "metadata": {
        "id": "_2LpJ4D3yF4U"
      },
      "execution_count": 163,
      "outputs": []
    },
    {
      "cell_type": "code",
      "source": [
        "X,y=make_classification(n_samples=10000,n_features=20,n_classes=2,random_state=42)\n",
        "X_train,X_test,y_train,y_test=train_test_split(X,y,random_state=42,test_size=0.25)"
      ],
      "metadata": {
        "id": "NfJgmyI-yZMs"
      },
      "execution_count": 164,
      "outputs": []
    },
    {
      "cell_type": "code",
      "source": [
        "start_time=time.perf_counter()\n",
        "gnb=GuassianNaiveBayes()\n",
        "gnb.fit(X_train,y_train)\n",
        "y_pred=gnb.predict(X_test)\n",
        "end_time=time.perf_counter()\n",
        "print(end_time-start_time)\n",
        "print(f'acc for manual model is: {accuracy_score(y_test,y_pred)}')\n",
        "#"
      ],
      "metadata": {
        "colab": {
          "base_uri": "https://localhost:8080/"
        },
        "id": "AIrks1XGzaOB",
        "outputId": "c40239ad-5e12-4e75-ab20-bc61b9f8f075"
      },
      "execution_count": 166,
      "outputs": [
        {
          "output_type": "stream",
          "name": "stdout",
          "text": [
            "25.53325897399918\n",
            "acc for manual model is: 0.5004\n"
          ]
        }
      ]
    },
    {
      "cell_type": "code",
      "source": [
        "start_time=time.perf_counter()\n",
        "sk_gnb=GaussianNB()\n",
        "sk_gnb.fit(X_train,y_train)\n",
        "y_pred=sk_gnb.predict(X_test)\n",
        "end_time=time.perf_counter()\n",
        "print(end_time-start_time)\n",
        "print(accuracy_score(y_test,y_pred))"
      ],
      "metadata": {
        "colab": {
          "base_uri": "https://localhost:8080/"
        },
        "id": "OvToK-0VBjd2",
        "outputId": "c51c476f-ee5e-43aa-9318-f4718106f4c2"
      },
      "execution_count": 161,
      "outputs": [
        {
          "output_type": "stream",
          "name": "stdout",
          "text": [
            "0.008958028000051854\n",
            "0.8732\n"
          ]
        }
      ]
    }
  ]
}