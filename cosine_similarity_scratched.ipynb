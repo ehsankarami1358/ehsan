{
  "nbformat": 4,
  "nbformat_minor": 0,
  "metadata": {
    "colab": {
      "provenance": [],
      "authorship_tag": "ABX9TyM2oW7sdK8PjdFcGnPR2Dq2",
      "include_colab_link": true
    },
    "kernelspec": {
      "name": "python3",
      "display_name": "Python 3"
    },
    "language_info": {
      "name": "python"
    }
  },
  "cells": [
    {
      "cell_type": "markdown",
      "metadata": {
        "id": "view-in-github",
        "colab_type": "text"
      },
      "source": [
        "<a href=\"https://colab.research.google.com/github/ehsankarami1358/ehsan/blob/main/cosine_similarity_scratched.ipynb\" target=\"_parent\"><img src=\"https://colab.research.google.com/assets/colab-badge.svg\" alt=\"Open In Colab\"/></a>"
      ]
    },
    {
      "cell_type": "code",
      "execution_count": 3,
      "metadata": {
        "id": "wknRvbC3ZUWw"
      },
      "outputs": [],
      "source": [
        "import numpy as np\n",
        "from numpy.linalg import norm"
      ]
    },
    {
      "cell_type": "code",
      "source": [
        "u12=np.array([5,4,2,1])\n",
        "u21=np.array([5,3,2,1])\n",
        "\n",
        "u13=np.array([5,1,4,2,1])\n",
        "u31=np.array([1,4,2,5,4])"
      ],
      "metadata": {
        "id": "bdKGOkUZZ49e"
      },
      "execution_count": 9,
      "outputs": []
    },
    {
      "cell_type": "code",
      "source": [
        "(u12.dot(u21))/(norm(u12)*norm(u21))"
      ],
      "metadata": {
        "colab": {
          "base_uri": "https://localhost:8080/"
        },
        "id": "vtoxm6qXaWdl",
        "outputId": "4ced81f9-2d3e-4471-bb4e-73c2de94ae16"
      },
      "execution_count": 10,
      "outputs": [
        {
          "output_type": "execute_result",
          "data": {
            "text/plain": [
              "0.9916035457647598"
            ]
          },
          "metadata": {},
          "execution_count": 10
        }
      ]
    },
    {
      "cell_type": "code",
      "source": [
        "(u13.dot(u31))/(norm(u13)*norm(u31))"
      ],
      "metadata": {
        "colab": {
          "base_uri": "https://localhost:8080/"
        },
        "id": "TcY2MLTuab50",
        "outputId": "1a3d937d-d280-46ad-c3b7-2b16d683d06c"
      },
      "execution_count": 11,
      "outputs": [
        {
          "output_type": "execute_result",
          "data": {
            "text/plain": [
              "0.5742710457985438"
            ]
          },
          "metadata": {},
          "execution_count": 11
        }
      ]
    }
  ]
}